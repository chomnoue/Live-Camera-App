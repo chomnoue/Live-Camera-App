{
 "cells": [
  {
   "cell_type": "code",
   "execution_count": null,
   "metadata": {
    "collapsed": false
   },
   "outputs": [],
   "source": [
    "%matplotlib inline\n",
    "\n",
    "import numpy as np\n",
    "import os\n",
    "import tarfile\n",
    "import urllib\n",
    "from IPython.display import display, Image\n",
    "from scipy import ndimage\n",
    "import cPickle as pickle\n",
    "import matplotlib.pyplot as plt\n",
    "import matplotlib\n",
    "matplotlib.style.use('ggplot')\n",
    "import pandas as pd"
   ]
  },
  {
   "cell_type": "code",
   "execution_count": null,
   "metadata": {
    "collapsed": false
   },
   "outputs": [],
   "source": [
    "def load_data(file_name):\n",
    "     with open(file_name, 'rb') as f:\n",
    "        data=pickle.load(f)\n",
    "        labels=data[\"label\"].astype(np.int32)\n",
    "        images=data[\"image\"]\n",
    "        del data\n",
    "        return images,labels\n",
    "loaded_train_data,loaded_train_labels=load_data(\"../train.pickle\")\n",
    "loaded_extra_data,loaded_extra_labels=load_data(\"../extra.pickle\")\n",
    "test_data,test_labels=load_data(\"../test.pickle\")\n",
    "print(\"train:\",loaded_train_data.shape,loaded_train_labels.shape)\n",
    "print(\"extra:\",loaded_extra_data.shape,loaded_extra_labels.shape)\n",
    "print(\"test:\",test_data.shape,test_labels.shape)"
   ]
  },
  {
   "cell_type": "code",
   "execution_count": null,
   "metadata": {
    "collapsed": false
   },
   "outputs": [],
   "source": [
    "data=np.concatenate((loaded_train_data,loaded_extra_data,test_data))\n",
    "labels=np.concatenate((loaded_train_labels,loaded_extra_labels,test_labels))\n",
    "print(\"data:\",data.shape,labels.shape)"
   ]
  },
  {
   "cell_type": "code",
   "execution_count": null,
   "metadata": {
    "collapsed": false,
    "scrolled": true
   },
   "outputs": [],
   "source": [
    "image_size=32\n",
    "def display_image(image):\n",
    "    plt.figure()\n",
    "    plt.imshow(image)\n",
    "    plt.show()\n",
    "    \n",
    "def display_images(data,labels,name=None,num_images=5):\n",
    "    print (\"showing some labels and images for %s\"%name)  \n",
    "    print (\"data shape: \",data.shape)\n",
    "    print(\"labels shape: \",labels.shape)\n",
    "    total_images=data.shape[0]\n",
    "    for i in np.random.choice(total_images,num_images):\n",
    "        print([l for l in labels[i] if l!=10])   \n",
    "        display_image(data[i].reshape(image_size,image_size))\n",
    "            \n",
    "display_images(data,labels,\"data\")"
   ]
  },
  {
   "cell_type": "code",
   "execution_count": null,
   "metadata": {
    "collapsed": true
   },
   "outputs": [],
   "source": [
    "pd_labels=pd.DataFrame(data=labels,columns=range(1,7))"
   ]
  },
  {
   "cell_type": "code",
   "execution_count": null,
   "metadata": {
    "collapsed": false
   },
   "outputs": [],
   "source": [
    "pd_labels[:5]"
   ]
  },
  {
   "cell_type": "code",
   "execution_count": null,
   "metadata": {
    "collapsed": true
   },
   "outputs": [],
   "source": [
    "valid_digits=pd_labels.apply(lambda x:x!=10)"
   ]
  },
  {
   "cell_type": "code",
   "execution_count": null,
   "metadata": {
    "collapsed": false
   },
   "outputs": [],
   "source": [
    "valid_digits[:5]"
   ]
  },
  {
   "cell_type": "code",
   "execution_count": null,
   "metadata": {
    "collapsed": true
   },
   "outputs": [],
   "source": [
    "digit_lengths=valid_digits.sum(axis=1)"
   ]
  },
  {
   "cell_type": "code",
   "execution_count": null,
   "metadata": {
    "collapsed": false
   },
   "outputs": [],
   "source": [
    "digit_lengths[:5]"
   ]
  },
  {
   "cell_type": "code",
   "execution_count": null,
   "metadata": {
    "collapsed": false
   },
   "outputs": [],
   "source": [
    "print(\"total digits: \",digit_lengths.sum())"
   ]
  },
  {
   "cell_type": "code",
   "execution_count": null,
   "metadata": {
    "collapsed": false
   },
   "outputs": [],
   "source": [
    "print(\"average number of digits per image\",digit_lengths.mean())"
   ]
  },
  {
   "cell_type": "code",
   "execution_count": null,
   "metadata": {
    "collapsed": false
   },
   "outputs": [],
   "source": [
    "grouped=digit_lengths.groupby(digit_lengths.values)\n",
    "print(\"digit length counts\", grouped.count())"
   ]
  },
  {
   "cell_type": "code",
   "execution_count": null,
   "metadata": {
    "collapsed": false
   },
   "outputs": [],
   "source": [
    "digit_counts=pd.DataFrame()\n",
    "for i in range(10):\n",
    "    digit_counts[str(i)]=pd_labels.apply(lambda x:x==i).sum(axis=1)"
   ]
  },
  {
   "cell_type": "code",
   "execution_count": null,
   "metadata": {
    "collapsed": false
   },
   "outputs": [],
   "source": [
    "digit_counts[:5]"
   ]
  },
  {
   "cell_type": "code",
   "execution_count": null,
   "metadata": {
    "collapsed": true
   },
   "outputs": [],
   "source": [
    "number_of_mages_with_at_least_one=digit_counts.apply(lambda x:x!=0).sum(axis=0)"
   ]
  },
  {
   "cell_type": "code",
   "execution_count": null,
   "metadata": {
    "collapsed": false
   },
   "outputs": [],
   "source": [
    "number_of_mages_with_at_least_one"
   ]
  },
  {
   "cell_type": "code",
   "execution_count": null,
   "metadata": {
    "collapsed": false
   },
   "outputs": [],
   "source": [
    "number_of_mages_with_at_least_one.plot.bar(title=\"Number of images in which each digit appears\").set(xlabel=\"Digit\", ylabel=\"Number of images\")"
   ]
  },
  {
   "cell_type": "code",
   "execution_count": null,
   "metadata": {
    "collapsed": false
   },
   "outputs": [],
   "source": [
    "number_of_digit_occurences=digit_counts.sum(axis=0)"
   ]
  },
  {
   "cell_type": "code",
   "execution_count": null,
   "metadata": {
    "collapsed": false
   },
   "outputs": [],
   "source": [
    "number_of_digit_occurences.plot.bar(title=\"Number occurences of each digit\").set(xlabel=\"Digit\", ylabel=\"Number of occurences\")"
   ]
  }
 ],
 "metadata": {
  "kernelspec": {
   "display_name": "Python 2",
   "language": "python",
   "name": "python2"
  },
  "language_info": {
   "codemirror_mode": {
    "name": "ipython",
    "version": 2
   },
   "file_extension": ".py",
   "mimetype": "text/x-python",
   "name": "python",
   "nbconvert_exporter": "python",
   "pygments_lexer": "ipython2",
   "version": "2.7.6"
  }
 },
 "nbformat": 4,
 "nbformat_minor": 0
}
